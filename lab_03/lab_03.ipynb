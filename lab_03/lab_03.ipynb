{
 "cells": [
  {
   "cell_type": "markdown",
   "id": "c677c949-8c05-4389-9265-4e03d09e41e0",
   "metadata": {},
   "source": [
    "<img align=\"right\" style=\"max-width: 200px; height: auto\" src=\"./sfao_logo.jpg\">\n",
    "\n",
    "##  Lab 03 - Agentic Audit Models\n",
    "\n",
    "Januar Schulung, Eidgenössische Finanzkontrolle (EFK), 2025"
   ]
  },
  {
   "cell_type": "markdown",
   "id": "cd1b4e9c-f597-44bd-964f-81719ab8462e",
   "metadata": {},
   "source": [
    "Die Labs zur **Künstlichen Intelligenz** der Januar Schulung 2025 basieren auf Jupyter Notebook. Anhand solcher Notebooks ist es möglich eine Vielzahl von Datenanalysen und statistischen Validierungen durchzuführen."
   ]
  },
  {
   "cell_type": "markdown",
   "id": "4d5aa882-8c1b-40b7-8e6f-fcec18d7150e",
   "metadata": {},
   "source": [
    "<img align=\"center\" style=\"max-width: 700px\" src=\"./lab_03_banner.png\">"
   ]
  },
  {
   "cell_type": "markdown",
   "id": "42f18dcc-2518-43a5-858c-45d4caadc772",
   "metadata": {},
   "source": [
    "In diesem Lab werden wir untersuchen, wie **Künstliche Intelligenz (KI)** genutzt werden kann, um Prüfungsaufgaben in einem agentenbasierten Umfeld umzusetzen und durchzuführen. Ziel ist es, mehrere KI-Agenten einzusetzen, die gemeinsam Buchhaltungsbuchungen analysieren und so die Arbeit menschlicher Prüfer simulieren. Dieser Ansatz basiert auf dem Konzept des [**Agentic Auditing**](https://papers.ssrn.com/sol3/papers.cfm?abstract_id=4909147), bei dem spezialisierte KI-Agenten unterschiedliche Aufgaben übernehmen, wie zum Beispiel Anomalieerkennung, Compliance-Prüfung und Analyse von Freigabeprozessen. Jeder Agent arbeitet autonom, agiert jedoch als Teil eines Teams, um sicherzustellen, dass Prüfungsprozesse gründlich und effizient ablaufen. Die folgende Abbildung veranschaulicht den **agentenbasierten Prüfungsprozess von Buchhaltungsbuchungen**, den wir in diesem Lab aufbauen möchten."
   ]
  },
  {
   "cell_type": "markdown",
   "id": "ff2e191d-4e03-450c-84fb-51630358afbd",
   "metadata": {},
   "source": [
    "<img align=\"center\" style=\"max-width: 1000px\" src=\"./audit_process.png\">"
   ]
  },
  {
   "cell_type": "markdown",
   "id": "8f938e0d-c837-40e2-bf6e-844a99395621",
   "metadata": {},
   "source": [
    "Wir werden mehrere Agenten mit dem [**CrewAI**](https://www.crewai.com/) (<img align=\"center\" style=\"max-width: 60px\" src=\"./crewai_logo.png\">) Framework implementieren und ausführen, um gemeinsam Buchhaltungsbuchungen zu prüfen. `CrewAI` ist ein Open-Source-Framework, das Entwicklern ermöglicht, automatisierte Workflows zu erstellen und bereitzustellen, indem mehrere KI-Agenten zusammenarbeiten, um komplexe Aufgaben zu erfüllen. Das entsprechende `CrewAI` GitHub-Repository ist über den folgenden Link erreichbar: [https://github.com/crewAIInc/crewAI](https://github.com/crewAIInc/crewAI)."
   ]
  },
  {
   "cell_type": "markdown",
   "id": "2a25966c-2659-4ed0-8f8b-0c22bfe11b8f",
   "metadata": {},
   "source": [
    "Mit dem `CrewAI` Framework werden wir ein Team von KI-Agenten (wie oben dargestellt) implementieren und bereitstellen, um Buchhaltungsbuchungen gemäß dem [International Standard on Auditing (ISA) 240](https://www.ifac.org/_flysystem/azure-private/publications/files/A012%202013%20IAASB%20Handbook%20ISA%20240.pdf) zu prüfen. Jeder Prüfungsagent wird spezifische Aufgaben übernehmen, wie (i) Dokumentenanalyse, (ii) Datenbankabfragen und (iii) Berichtserstellung. Nach der Einrichtung der Agenten lassen wir sie in einem sequentiellen Prozess zusammenarbeiten, um die Prüfung der Buchhaltungsbuchungen durchzuführen."
   ]
  },
  {
   "cell_type": "markdown",
   "id": "07ada38a-62ad-4800-b40d-265b70733f5c",
   "metadata": {},
   "source": [
    "Bei etwaigen Fragen wenden Sie sich, wie immer gerne an uns via **marco (dot) schreyer (at) efk (dot) admin (dot) ch**. Wir wünschen Ihnen Viel Freude mit unseren Notebooks und Ihren revisorischen Analysen!"
   ]
  },
  {
   "cell_type": "markdown",
   "id": "cb3441c5-bc7f-4ca3-8288-52ed9005b529",
   "metadata": {},
   "source": [
    "## Lernziele des Labs:"
   ]
  },
  {
   "cell_type": "markdown",
   "id": "b483d507-7bc7-4347-844a-f0d6dcd3a9c9",
   "metadata": {},
   "source": [
    "Nach dem heutigen Lab sollten Sie in der Lage sein:\n",
    "\n",
    "> 1. **Agentic Auditing verstehen:** Die Grundlagen des Einsatzes von KI-Agenten für Prüfungsaufgaben erfassen.  \n",
    "> 2. **KI-Agenten mit CrewAI implementieren:** Agenten einrichten und konfigurieren, um Prüfungsaufgaben durchzuführen.  \n",
    "> 3. **Agenten für die Prüfung von Buchhaltungsbuchungen einsetzen:** Agenten verwenden, um Anomalien in Buchhaltungsbuchungen zu erkennen.  \n",
    "> 4. **Agentenleistung bewerten:** Die Leistung der Agenten anhand prüfungsrelevanter Metriken analysieren.  \n",
    "> 5. **Prüfungsergebnisse berichten:** Prüfungsergebnisse visualisieren und zusammenfassen.  \n",
    "\n",
    "Am Ende des Labs werden Sie verstehen, wie man mit dem `CrewAI` Framework KI-Agenten einrichtet, ihnen spezifische Prüfungsaufgaben zuweist und sie gemeinsam die Prüfung von Buchhaltungsbuchungen durchführen lässt.\n"
   ]
  },
  {
   "cell_type": "markdown",
   "id": "7bf28db5-bdec-43eb-a14e-2c494c3fb29e",
   "metadata": {},
   "source": [
    "## 1. Einrichten der Analyseumgebung"
   ]
  },
  {
   "cell_type": "markdown",
   "id": "136f50dc-03da-4c24-ad16-d135eeff2860",
   "metadata": {},
   "source": [
    "Ähnlich wie in den vorangegangenen Übungen werden wir zunächst eine Reihe von Python-Bibliotheken importieren, welche die Datenanalyse und -visualisierung ermöglichen. In dieser Übung werden wir die Bibliotheken `CrewAI`, `Pandas`, `Numpy`, `Scikit-Learn`, `Matplotlib` und `Seaborn` verwenden. Nachfolgend importieren wir die benötigten Bibliotheken durch die Ausführung der folgenden Anweisungen:"
   ]
  },
  {
   "cell_type": "code",
   "execution_count": 3,
   "id": "01615f89-8d07-4005-830d-3efd2e7ef9e3",
   "metadata": {},
   "outputs": [],
   "source": [
    "# import python data science and utility libraries\n",
    "import os, requests\n",
    "from datetime import datetime\n",
    "from IPython.display import Markdown, display\n",
    "from textwrap import dedent"
   ]
  },
  {
   "cell_type": "markdown",
   "id": "dda496ce-7e88-4640-a0c4-3b754f4fdd13",
   "metadata": {},
   "source": [
    "Import der `Pandas` Data Science Bibliotheken:"
   ]
  },
  {
   "cell_type": "code",
   "execution_count": 4,
   "id": "46eaa444-55c1-4e97-b36f-c1633da0cc40",
   "metadata": {},
   "outputs": [],
   "source": [
    "# import import python data science libraries\n",
    "import pandas as pd\n",
    "import tabulate as tb"
   ]
  },
  {
   "cell_type": "markdown",
   "id": "b98f02ab-08f8-4e94-bbed-3cdd582a4975",
   "metadata": {},
   "source": [
    "Import der `SQLAlchemy` Datenbank Bibliotheken:"
   ]
  },
  {
   "cell_type": "code",
   "execution_count": null,
   "id": "193d1507-284d-42e7-b58c-a7fa8558a8f6",
   "metadata": {},
   "outputs": [],
   "source": [
    "# import SQLAlchemy components for database interactions\n",
    "from sqlalchemy import create_engine, MetaData, Table, Column, Integer, String, Float, Date, insert"
   ]
  },
  {
   "cell_type": "markdown",
   "id": "3c7a2cb0-cc0a-4fba-88d0-fc9e3cccbd07",
   "metadata": {},
   "source": [
    "Installation der `crewAI` Agenten Bibliotheken:"
   ]
  },
  {
   "cell_type": "code",
   "execution_count": null,
   "id": "417598a1-6deb-4bba-b041-9f7b45cd1273",
   "metadata": {},
   "outputs": [],
   "source": [
    "# install the crewai library and tools\n",
    "! pip -qqq install crewai==0.79.4\n",
    "! pip -qqq install crewai_tools==0.14.0"
   ]
  },
  {
   "cell_type": "markdown",
   "id": "a936a85f-c0f8-4646-9821-82366281f513",
   "metadata": {},
   "source": [
    "Import der `crewAI` Agenten Bibliotheken:"
   ]
  },
  {
   "cell_type": "code",
   "execution_count": null,
   "id": "c3d9a94d-49d2-46e7-ab62-35b94cbda1d6",
   "metadata": {},
   "outputs": [],
   "source": [
    "# import the crewai library and tools\n",
    "from crewai import Crew, Agent, Process, Task, LLM\n",
    "from crewai_tools import BaseTool"
   ]
  },
  {
   "cell_type": "markdown",
   "id": "6a6615df-55e1-4b3c-a1cb-39f908875394",
   "metadata": {},
   "source": [
    "Installation der `langchain` Large Language Model (LLM) Chaining Bibliothek:"
   ]
  },
  {
   "cell_type": "code",
   "execution_count": null,
   "id": "91ad5fe0-8c51-4f4f-b1db-06dbd52996da",
   "metadata": {},
   "outputs": [],
   "source": [
    "! pip -qqq install langchain_openai "
   ]
  },
  {
   "cell_type": "markdown",
   "id": "b2ef761b-b744-43ef-b88b-39c683444c5e",
   "metadata": {},
   "source": [
    "Import der `langchain` Large Language Model (LLM) Chaining Bibliothek:"
   ]
  },
  {
   "cell_type": "code",
   "execution_count": null,
   "id": "132b954b-9e58-4cb0-8fc8-315adb0b1910",
   "metadata": {},
   "outputs": [],
   "source": [
    "# import langchain\n",
    "from langchain_openai import ChatOpenAI"
   ]
  },
  {
   "cell_type": "markdown",
   "id": "ffa59bd9-714c-4785-99b3-4413a225c008",
   "metadata": {},
   "source": [
    "## 2. Einrichtung des Large Language Models (LLM)"
   ]
  },
  {
   "cell_type": "markdown",
   "id": "0f8347cf-a495-4eb7-a903-503cd3bad096",
   "metadata": {},
   "source": [
    "In diesem Abschnitt richten wir zwei verschiedene Large Language Models (LLMs) ein, die unsere Agenten für prüfungsbezogene Aufgaben nutzen werden. Wir beginnen mit einem lokal gehosteten LLM, das über die [**Ollama**](https://ollama.com/) Anwendung bereitgestellt wird, und erkunden anschließend den Zugriff auf das remote gehostete [**ChatGPT**](https://platform.openai.com/docs/overview) über die API von OpenAI. Diese Einrichtung ermöglicht es uns, sowohl lokal als auch cloudbasierte LLMs für agentenbasierte Prüfungsaufgaben zu testen. In beiden Umgebungen verwenden wir die **Langchain**-Schnittstelle `ChatOpenAI`, um auf die Modelle zuzugreifen."
   ]
  },
  {
   "cell_type": "markdown",
   "id": "974c370d-9e9e-4578-9296-847d8de0afe0",
   "metadata": {},
   "source": [
    "### 2.1 Einrichtung eines lokalen LLM mit Ollama\n",
    "\n",
    "Die **Ollama**-Anwendung bietet die Möglichkeit, LLMs lokal auszuführen. Wir werden das **LLaMA3**-Modell von Meta.ai über **Ollama** einrichten und verwenden. Dies ermöglicht eine lokale Ausführung des Modells, reduziert die Latenz und verbessert den Datenschutz. Um dies zu erreichen, laden Sie zunächst die Anwendung über den folgenden Link für Ihr Betriebssystem herunter und installieren Sie sie: [https://ollama.com/download](https://ollama.com/download)."
   ]
  },
  {
   "cell_type": "markdown",
   "id": "c359126e-a1c7-4850-a95b-307569f3fd7f",
   "metadata": {},
   "source": [
    "Nach erfolgreicher Installation führen wir den Befehl `ollama list` aus, um die verfügbaren Modelle anzuzeigen:"
   ]
  },
  {
   "cell_type": "code",
   "execution_count": null,
   "id": "fd3bc401-1309-4fe7-86ff-ae6e5de6125b",
   "metadata": {},
   "outputs": [],
   "source": [
    "! ollama list"
   ]
  },
  {
   "cell_type": "markdown",
   "id": "e3b53df8-7dea-44ce-a270-e7a79afc347a",
   "metadata": {},
   "source": [
    "Unser Ziel ist es, das **LLaMA 3.2**-Modell zu verwenden, das instruktionstauglich ist und über 3 Milliarden Parameter verfügt (Text-in/Text-out). Dieses Modell wurde für mehrsprachige Dialogfälle optimiert, einschließlich agentenbasierter Such- und Zusammenfassungsaufgaben. Wir laden das **LLaMA 3.2**-Modell in der `Google Colab`-Anwendung mit dem `ollama pull`-Befehl herunter:"
   ]
  },
  {
   "cell_type": "code",
   "execution_count": null,
   "id": "f6e2c09e-6001-454b-9cb9-76fde2085933",
   "metadata": {},
   "outputs": [],
   "source": [
    "! ollama pull llama3.2:3b"
   ]
  },
  {
   "cell_type": "markdown",
   "id": "af3fcfbe-4def-46d5-b83a-cff7d41fe954",
   "metadata": {},
   "source": [
    "Anschließend überprüfen wir kurz, ob das Modell erfolgreich heruntergeladen wurde:"
   ]
  },
  {
   "cell_type": "code",
   "execution_count": null,
   "id": "b1c8508e-584c-4ba4-8db1-02f821bec62f",
   "metadata": {},
   "outputs": [],
   "source": [
    "! ollama list"
   ]
  },
  {
   "cell_type": "markdown",
   "id": "aaaf4fe4-de68-4637-938e-42e2dd6a22a8",
   "metadata": {},
   "source": [
    "Perfekt! Jetzt führen wir das Modell lokal auf Ihrem Gerät mit dem Befehl `ollama run` und dem entsprechenden Modellnamen aus:"
   ]
  },
  {
   "cell_type": "code",
   "execution_count": null,
   "id": "1a9a9c62-5372-4514-8230-886ca106404b",
   "metadata": {},
   "outputs": [],
   "source": [
    "! ollama run llama3.2:3b"
   ]
  },
  {
   "cell_type": "markdown",
   "id": "edebd013-5c1d-4188-93a4-1ef90e3a1fe1",
   "metadata": {},
   "source": [
    "Da das Modell jetzt läuft, verwenden wir die **Langchain**-Schnittstelle `ChatOpenAI`, um eine Verbindung zu dem lokal gehosteten **LLaMA 3.2**-Modell herzustellen:"
   ]
  },
  {
   "cell_type": "code",
   "execution_count": null,
   "id": "1d677c3b-18b2-407c-b02d-fee101ca8398",
   "metadata": {},
   "outputs": [],
   "source": [
    "# initialize the local LLaMA 3.2 by meta.ai\n",
    "llm_llama = LLM(model='ollama/llama3.2:3b', base_url='http://localhost:11434/', temperature=0.9, max_tokens=2048, seed=1234)"
   ]
  },
  {
   "cell_type": "markdown",
   "id": "d7e675f5-5a80-4b99-be4a-10db699a298c",
   "metadata": {},
   "source": [
    "Als Nächstes testen wir das lokale **LLaMA3**-Modell. Wir simulieren ein Szenario, in dem die KI aufgefordert wird, einen Spesenbericht eines etwas eigenwilligen Mitarbeiters zu prüfen, der möglicherweise private Ausgaben einreichen möchte. Dieser Test stellt sicher, dass das Modell korrekt reagiert:"
   ]
  },
  {
   "cell_type": "code",
   "execution_count": null,
   "id": "19845ad1-6be1-49d1-991b-00e145558d42",
   "metadata": {},
   "outputs": [],
   "source": [
    "# define a fun audit prompt \n",
    "prompt = \"\"\"\n",
    "Imagine you're an auditor reviewing an expense report from an employee who claims all expenses are legitimate business costs. \n",
    "Here's a list of items they've submitted:\n",
    "\n",
    "1. Office supplies - $100\n",
    "2. Coffee machine - $250\n",
    "3. Unicorn onesie - $45\n",
    "4. 10-pound gummy bear - $30\n",
    "5. \"Business trip\" to Disneyland - $2000\n",
    "6. Sushi for team meeting - $150\n",
    "\n",
    "Please identify which items are legitimate business expenses and which might require further investigation, with a bit of humor in your response. \n",
    "\"\"\""
   ]
  },
  {
   "cell_type": "markdown",
   "id": "2db6b4ff-52e7-4804-84b9-a9433c769302",
   "metadata": {},
   "source": [
    "Das lokale **LLaMA3**-Modell wird beauftragt, zu bestimmen, welche Posten im Spesenbericht legitim sind und welche einer genaueren Prüfung bedürfen. Das Modell sollte eine humorvolle, aber praktische Analyse der Ausgaben liefern:"
   ]
  },
  {
   "cell_type": "code",
   "execution_count": null,
   "id": "bf761e8a-44bd-42eb-831f-4db5606a7524",
   "metadata": {},
   "outputs": [],
   "source": [
    "# test the model with this fun audit prompt\n",
    "print(llm_llama.call(messages=[{ \"content\": prompt, \"role\": \"user\"}]))"
   ]
  },
  {
   "cell_type": "markdown",
   "id": "eee804a4-80a2-44a7-bd41-36eda7688ecd",
   "metadata": {},
   "source": [
    "### 2.2 Einrichtung eines cloudbasierten LLM mit Langchain"
   ]
  },
  {
   "cell_type": "markdown",
   "id": "555eed45-a4cd-4e95-b089-4576eb3cf44f",
   "metadata": {},
   "source": [
    "Die **OpenAI API** ermöglicht den Zugriff auf Sprachmodelle wie **GPT-4** (ChatGPT) über die Cloud. In diesem Abschnitt richten wir ChatGPT ein, indem wir einen API-Schlüssel konfigurieren und eine Verbindung zu den Servern von OpenAI herstellen. Dieser Ansatz ist vorteilhaft für Nutzer, die Zugriff auf ein leistungsstarkes Modell benötigen, jedoch keine lokale Hosting-Möglichkeit haben.\n",
    "\n",
    "Um zu beginnen, erstellen Sie ein OpenAI-Konto und erhalten Sie einen API-Schlüssel über das **API-Dashboard** von OpenAI: [https://platform.openai.com](https://platform.openai.com)."
   ]
  },
  {
   "cell_type": "markdown",
   "id": "4882ec84-b4af-4da5-86a2-d9627e80e6e1",
   "metadata": {},
   "source": [
    "Nach Erhalt des API-Schlüssels richten wir ihn als Umgebungsvariable ein. Dadurch wird der Schlüssel geschützt und unser Code kann mit dem **GPT-4**-Modell interagieren:"
   ]
  },
  {
   "cell_type": "code",
   "execution_count": null,
   "id": "9fbfad36-c938-4ae9-8f9d-5257a31d6832",
   "metadata": {},
   "outputs": [],
   "source": [
    "# set the OpenAI API key as an environment variable\n",
    "os.environ['OPENAI_API_KEY'] = 'your_actual_openai_api_key_here'  # Replace with your actual OpenAI API key"
   ]
  },
  {
   "cell_type": "markdown",
   "id": "df0083c8-04f3-450c-84fe-271532264493",
   "metadata": {},
   "source": [
    "Nun verwenden wir die `ChatOpenAI`-Bibliothek, um das **GPT-4**-Modell über die OpenAI API zu initialisieren. Stellen Sie sicher, dass der API-Schlüssel korrekt eingerichtet ist, bevor Sie diesen Code ausführen."
   ]
  },
  {
   "cell_type": "code",
   "execution_count": null,
   "id": "62f77640-99ce-41cd-9571-93e9c4c8325b",
   "metadata": {},
   "outputs": [],
   "source": [
    "# initialize ChatGPT with OpenAI's GPT-4 model\n",
    "llm_gpt = ChatOpenAI(model='gpt-4', api_key=os.getenv('OPENAI_API_KEY'), temperature=0.7)"
   ]
  },
  {
   "cell_type": "markdown",
   "id": "8b45711c-6878-4f59-acd3-3120b606bdfa",
   "metadata": {},
   "source": [
    "Mit der erfolgreichen Verbindung zu **GPT-4** über die OpenAI API können wir dieses cloudbasierte LLM für unsere agentenbasierten Prüfungsaufgaben einsetzen. Diese Einrichtung bietet Zugang zu leistungsstarken Sprachfunktionen und nutzt gleichzeitig die Infrastruktur von OpenAI.\n",
    "\n",
    "Als Nächstes testen wir das cloudbasierte **GPT-4**-Modell! Anstatt üblicher Prüfungsaufgaben stellen wir ihm eine philosophische Frage nach dem Sinn des Lebens. Diese spielerische Aufgabe zeigt, wie gut das Modell analytische Anfragen bewältigen kann – genau wie es ein guter Prüfer tun würde:"
   ]
  },
  {
   "cell_type": "code",
   "execution_count": null,
   "id": "759a7ac5-91be-445a-9856-0dc822198be3",
   "metadata": {},
   "outputs": [],
   "source": [
    "# define a fun audit prompt\n",
    "prompt = \"\"\"\n",
    "Imagine you're an auditor known for precision and rigor, and one day, a curious question lands on your desk: \n",
    "\n",
    "\"What is the meaning of life?\" \n",
    "\n",
    "Using your audit skills, approach this question as if you’re conducting an audit. What evidence might you seek, \n",
    "what factors would you evaluate, and what red flags could arise in your quest to give a well-substantiated answer?\n",
    "Add a touch of humor in your response, because, after all, who better to weigh in on life’s mysteries than an auditor?\n",
    "\"\"\""
   ]
  },
  {
   "cell_type": "markdown",
   "id": "aa760821-c68c-4e18-9687-d91b89f41921",
   "metadata": {},
   "source": [
    "Senden wir die Anfrage an das cloudbasierte **GPT-4**-Modell. Das Modell sollte eine humorvolle Antwort auf die Frage liefern:"
   ]
  },
  {
   "cell_type": "code",
   "execution_count": null,
   "id": "98452886-6871-4697-b6f3-0fac65ff02d2",
   "metadata": {},
   "outputs": [],
   "source": [
    "# test the model with this fun audit prompt\n",
    "print(llm_gpt.invoke(prompt).content)"
   ]
  },
  {
   "cell_type": "markdown",
   "id": "453f8ee0-5f07-4d1c-9bf8-6b06a34b33bc",
   "metadata": {},
   "source": [
    "In diesem Abschnitt haben wir zwei leistungsstarke Möglichkeiten erkundet, Sprachmodelle in unser Prüfungstoolkit zu integrieren: die Einrichtung eines lokalen Modells mit **Ollama** und den Zugriff auf das **GPT-4**-Modell über den Cloud-Dienst von OpenAI. Diese Tools bieten Flexibilität bei der Durchführung agentenbasierter Prüfungsaufgaben und balancieren Datenschutz und Leistungsfähigkeit aus. Mit dieser eingerichteten Umgebung sind wir bereit, uns praktischen Anwendungen zuzuwenden, bei denen diese Modelle als Prüfungsagenten in einem definierten Prüfungsprozess eingesetzt werden."
   ]
  },
  {
   "cell_type": "markdown",
   "id": "31e239d0-ec19-480b-9faf-cb6138a6d591",
   "metadata": {},
   "source": [
    "## 3. Etablierung einer agentenbasierten Prüfung von Journal Entries"
   ]
  },
  {
   "cell_type": "markdown",
   "id": "bfeb5d24-e6fb-4036-85bc-f1da857d2719",
   "metadata": {},
   "source": [
    "In diesem Abschnitt führen wir Sie durch die Erstellung der grundlegenden Agenten unseres Prüfungsteams. Wir beginnen mit der Einrichtung eines **Senior Auditor**-Agenten, der komplexe organisatorische Richtlinien analysieren und für Prüfungszwecke zusammenfassen kann. Anschließend erweitern wir das Team um zusätzliche Agenten, die gemeinsam im Rahmen eines agentenbasierten Workflows die Prüfung von Buchhaltungsbuchungen durchführen."
   ]
  },
  {
   "cell_type": "markdown",
   "id": "13389bea-b70c-41da-813d-8cf2e0ac8193",
   "metadata": {},
   "source": [
    "### 3.1 Einrichtung eines einzelnen Prüfungsagenten"
   ]
  },
  {
   "cell_type": "markdown",
   "id": "2224db84-7487-4d94-82f3-e9914623b8b7",
   "metadata": {},
   "source": [
    "Der **Senior Auditor** ist der erste Agent in unserem Prüfungsteam. Er wurde entwickelt, um komplexe Richtlinien zu analysieren und umsetzbare Erkenntnisse zu generieren. Seine Hauptaufgabe besteht darin, organisatorische Richtlinien zu lesen und prägnant für Prüfungszwecke zusammenzufassen. Das \"Gehirn\" dieses Agenten wird vom **LLaMA 3.2-Modell** betrieben, das wir zuvor eingerichtet haben und das ihm ermöglicht, sprachbasierte Aufgaben wie Textanalyse und -zusammenfassung zu bewältigen (siehe Abbildung 2). Lassen Sie uns die Schritte zur Erstellung und Aufgabenvergabe an diesen Agenten durchgehen."
   ]
  },
  {
   "cell_type": "markdown",
   "id": "723c9d0e-70da-44fe-8a8d-5ada8b9cb44b",
   "metadata": {},
   "source": [
    "<img align='center' style=\"max-width: 850px\" src='./senior_auditor_agent.png'>\n",
    "\n",
    "**Figure 2: Senior Auditor Agent - Tools and Capabilities**"
   ]
  },
  {
   "cell_type": "markdown",
   "id": "93787182-3ba4-42f1-86f6-464374f48be6",
   "metadata": {},
   "source": [
    "Der **Senior Auditor** benötigt ein Werkzeug, um die organisatorischen Richtlinien zu lesen. Wir stellen diese Funktionalität bereit, indem wir das Tool `ReadGuidelines` definieren. Dieses Tool liest eine Textdatei mit den Richtlinien und gibt deren Inhalt zurück. Dadurch erhält der Agent Zugriff auf die Richtlinien und kann sie verarbeiten."
   ]
  },
  {
   "cell_type": "code",
   "execution_count": null,
   "id": "d0023afe-01a4-452f-af73-11a8a321ade8",
   "metadata": {},
   "outputs": [],
   "source": [
    "# define the ReadGuidelines tool for the Senior Auditor agent\n",
    "class ReadGuidelines(BaseTool):\n",
    "    \n",
    "    # set tool attributes\n",
    "    name: str = 'Read Guidelines'  # name of the tool\n",
    "    description: str = 'Reads organizational guidelines and returns the guideline content.'  # tool description\n",
    "    result_as_answer: bool = True  # ensures the output is given as an answer\n",
    "\n",
    "    # this method reads a text file containing the guidelines\n",
    "    def _run(self, query: str) -> str:\n",
    "\n",
    "        try:\n",
    "            # define the remote file path\n",
    "            file_path = 'https://raw.githubusercontent.com/GitiHubi/AgenticAuditing/master/guideline.txt'\n",
    "            \n",
    "            # open and read the content of the guideline file\n",
    "            content = requests.get(file_path).text\n",
    "            \n",
    "            # return the file content as a string\n",
    "            return str(content)\n",
    "        \n",
    "        except Exception as exception:\n",
    "            \n",
    "            # return error message if file reading fails\n",
    "            return str(exception)"
   ]
  },
  {
   "cell_type": "markdown",
   "id": "f0b47f0f-c702-4937-a326-26d89adbb0e8",
   "metadata": {},
   "source": [
    "Das **ReadGuidelines**-Tool ermöglicht es dem **Senior Auditor**, auf das Richtliniendokument der Organisation zuzugreifen und es zu lesen. Dies unterstützt den Agenten dabei, die wichtigsten Punkte für Prüfungszwecke zusammenzufassen. Lassen Sie uns das Tool instanziieren:"
   ]
  },
  {
   "cell_type": "code",
   "execution_count": null,
   "id": "5b73fbe0-2f9c-4568-b8b5-60ad85a67ebc",
   "metadata": {},
   "outputs": [],
   "source": [
    "# instantiate the ReadGuidelines tool\n",
    "rga = ReadGuidelines()"
   ]
  },
  {
   "cell_type": "markdown",
   "id": "82394519-5621-4b1c-83b9-f4403b6f973b",
   "metadata": {},
   "source": [
    "Mit dem eingerichteten `ReadGuidelines`-Tool definieren wir nun den **Senior Auditor**-Agenten. Dieser Agent liest organisatorische Richtlinien und fasst die wichtigsten Informationen für Prüfungszwecke zusammen. Das \"Gehirn\" des Agenten nutzt das **LLaMA 3.2-Modell**, das ihm fortschrittliche Sprachverstehens- und Zusammenfassungsfähigkeiten verleiht.\n",
    "\n",
    "Der **Senior Auditor**-Agent besitzt die folgenden Eigenschaften:\n",
    "- **Rolle:** Senior Auditor.  \n",
    "- **Ziel:** Wichtige Informationen aus organisatorischen Richtlinien extrahieren und zusammenfassen.  \n",
    "- **Hintergrundgeschichte:** Bekannt dafür, komplexe Richtlinien in umsetzbare Erkenntnisse zu übersetzen."
   ]
  },
  {
   "cell_type": "code",
   "execution_count": null,
   "id": "c535e02a-2cb3-4318-b0d7-fee4ca66cee4",
   "metadata": {},
   "outputs": [],
   "source": [
    "# define the Senior Auditor agent, using LLaMA 3.2 as its language model\n",
    "senior_auditor = Agent(\n",
    "    role='Senior Auditor',  # the agent's role\n",
    "    goal=\"Analyze comprehensive organizational guidelines and extract their main points.\",  # the agent's task focus\n",
    "    \n",
    "    # detailed backstory providing context for the agent's role\n",
    "    backstory=\"\"\"You are a skilled Senior Auditor, known for your expertise in analyzing complex guidelines \n",
    "    and translating them into concise, actionable insights. Your summaries are critical for guiding \n",
    "    other audit team members in compliance and audit assessments.\"\"\",\n",
    "    \n",
    "    verbose=True,  # enables detailed logging for transparency during execution\n",
    "    allow_delegation=False,  # disables task delegation for this agent to maintain focused task handling\n",
    "    llm=llm_gpt,  # specifies the LLaMA 3.2 model as the agent's \"brain\" for language-based tasks\n",
    "    tools=[rga]  # attaches the ReadGuidelines tool to enable reading and processing guideline documents\n",
    ")"
   ]
  },
  {
   "cell_type": "markdown",
   "id": "a0ca72b6-8b3b-47ec-baf7-2c2dc9720daa",
   "metadata": {},
   "source": [
    "Der **Senior Auditor**-Agent wird mit der Analyse und Zusammenfassung der Richtlinien der Organisation beauftragt. Ziel ist es, eine prägnante, zugängliche Zusammenfassung zu erstellen, die sich insbesondere auf relevante Filterkriterien für die Prüfung von Zahlungen konzentriert.\n",
    "\n",
    "Zusammenfassend soll die Aufgabe folgende Kriterien erfüllen:\n",
    "- **Kriterium 1:** Klar und prägnant sein, mit minimalem Fachjargon.  \n",
    "- **Kriterium 2:** Fokussierung auf Filterkriterien, die für die Prüfung von Zahlungen relevant sind.  \n",
    "- **Kriterium 3:** Die Filterkriterien, die der IT-Prüfer verwenden sollte, explizit angeben.  \n",
    "- **Kriterium 4:** Die Zusammenfassung sollte in nur zwei oder drei Sätzen erfolgen."
   ]
  },
  {
   "cell_type": "code",
   "execution_count": null,
   "id": "824a2481-7361-4545-b9e4-509eb8c5f210",
   "metadata": {},
   "outputs": [],
   "source": [
    "# define the task for the Senior Auditor agent\n",
    "analyze_guideline = Task(\n",
    "    description=dedent(\"\"\"\\\n",
    "        Summarize the given guideline and extract its main gist in a very concise and short manner for an IT auditor.\n",
    "\n",
    "        Utilize the provided guideline text and insights to complete your task effectively.\n",
    "\n",
    "        Your summary should be:\n",
    "        1. Clear and concise, avoiding complex jargon to ensure readability.\n",
    "        2. Focused on the key points relevant to deriving a SQL query for auditing payments.\n",
    "        3. Explicitly state the filtering criteria that the IT auditor should use when analyzing the payments to identify potential violations of the guideline.\n",
    "        4. Short, encompassing a total of two to three sentences (this is very important).\n",
    "    \"\"\"),\n",
    "    expected_output=dedent(\"\"\"\\\n",
    "        A concise and clear summary of the guideline, tailored for an IT auditor, including explicit filtering criteria for analyzing payments.\n",
    "    \"\"\"),\n",
    "    agent=senior_auditor,  # assign the task to the senior auditor agent\n",
    "    max_attempts=1,        # set the number of attempts allowed for this task\n",
    "    output_file='task_01.txt'  # file to store the task output\n",
    ")"
   ]
  },
  {
   "cell_type": "markdown",
   "id": "6420503a-216d-41b4-ab0b-0c4a74585613",
   "metadata": {},
   "source": [
    "Mit der nun definierten Aufgabe können wir sie ausführen. Der **Senior Auditor**-Agent wird die Richtlinien verarbeiten und eine Zusammenfassung entsprechend den angegebenen Kriterien erstellen."
   ]
  },
  {
   "cell_type": "code",
   "execution_count": null,
   "id": "f83566af-1d9c-480d-ac09-ff9136ef89ee",
   "metadata": {},
   "outputs": [],
   "source": [
    "analyze_guideline.execute_sync();"
   ]
  },
  {
   "cell_type": "markdown",
   "id": "db7e4e8c-cc8d-45a5-80e5-3f99cc31530b",
   "metadata": {},
   "source": [
    "### 3.2 Einrichtung eines Teams von Prüfungsagenten"
   ]
  },
  {
   "cell_type": "markdown",
   "id": "860ccef2-b81b-4d54-b2f6-b72a05ae3162",
   "metadata": {},
   "source": [
    "In diesem Abschnitt erweitern wir das Prüfungsteam um zwei zusätzliche Agenten: den **Senior IT Auditor** und den **Audit Manager**. Jeder dieser Agenten bringt spezialisierte Fähigkeiten in den Prüfungsprozess ein und ermöglicht so einen umfassenden Workflow für die Prüfung von Buchhaltungsbuchungen. Der **Senior IT Auditor** wird sich auf die Analyse von Zahlungsdatensätzen in der Datenbank konzentrieren und die Einhaltung organisatorischer Richtlinien sicherstellen. Der **Audit Manager** hingegen wird die Ergebnisse in einem strukturierten Bericht zusammenfassen und so auch für ein nicht-technisches Publikum zugänglich machen."
   ]
  },
  {
   "cell_type": "markdown",
   "id": "ff03c2d5-670c-4d0b-b46a-29fd1c3850ae",
   "metadata": {},
   "source": [
    "#### 3.2.1 Einrichtung des Senior IT Auditor Agenten\n",
    "\n",
    "Der zweite Agent, der **Senior IT Auditor**, ist auf das Abfragen von Datenbanken spezialisiert, um potenzielle Verstöße gegen Richtlinien aufzudecken. Das \"Gehirn\" dieses Agenten wird ebenfalls vom **LLaMA 3.2-Modell** betrieben, wodurch er sprachbasierte Aufgaben wie die Formulierung von Abfragen und die Datenanalyse durchführen kann (siehe Abbildung 3). Seine Hauptaufgabe besteht darin, Prüfungsrichtlinien in **SQL-Abfragen** zu übersetzen, Buchhaltungsbuchungen zu analysieren und hochpreisige Transaktionen zu identifizieren, die auf Compliance-Probleme hinweisen könnten.\n",
    "\n",
    "Lassen Sie uns die Schritte zur Erstellung und Aufgabenvergabe an diesen Agenten durchgehen."
   ]
  },
  {
   "cell_type": "markdown",
   "id": "020a4d0b-8204-4645-b1fd-06a5f4361503",
   "metadata": {},
   "source": [
    "<img align='center' style=\"max-width: 850px\" src='./senior_it_auditor_agent.png'>\n",
    "\n",
    "**Figure 3: Senior IT Auditor Agent - Tools and Capabilities**"
   ]
  },
  {
   "cell_type": "markdown",
   "id": "ef26065b-e81a-4075-a949-5e1cab6c87dd",
   "metadata": {},
   "source": [
    "Bevor wir den **Senior IT Auditor** Agenten definieren, müssen wir eine in-memory SQLite-Datenbank einrichten, die Beispieldatensätze zu Zahlungen enthält. Dadurch kann der Agent SQL-Abfragen auf diese Datensätze ausführen, um mögliche Verstöße gegen die organisatorischen Richtlinien zu überprüfen."
   ]
  },
  {
   "cell_type": "code",
   "execution_count": null,
   "id": "40aa64c0-0771-4491-be6b-16bdaaa6c41a",
   "metadata": {},
   "outputs": [],
   "source": [
    "# define the metadata object\n",
    "metadata_obj = MetaData()\n",
    "\n",
    "# Define the schema for a payments table\n",
    "payments = Table(\n",
    "    \"payments\",\n",
    "    metadata_obj,\n",
    "    Column(\"id\", Integer, primary_key=True),\n",
    "    Column(\"text\", String(4), nullable=False),\n",
    "    Column(\"amount\", Float, nullable=False),\n",
    "    Column(\"date\", Date, nullable=False),\n",
    ")\n",
    "\n",
    "# insert sample data for payments\n",
    "payment_data = [\n",
    "    [1, 'ABC', 200, datetime(2023, 1, 1)],\n",
    "    [2, 'ABC', 1029, datetime(2023, 1, 2)],\n",
    "    [3, 'ABC', 232, datetime(2023, 1, 3)],\n",
    "    [4, 'ABC', 1225, datetime(2023, 1, 4)],\n",
    "    [5, 'ABC', 226, datetime(2023, 1, 5)],\n",
    "    [6, 'XYZ', 810, datetime(2023, 1, 1)],\n",
    "    [7, 'XYZ', 803, datetime(2023, 1, 2)],\n",
    "    [8, 'XYZ', 1798, datetime(2023, 1, 3)],\n",
    "    [9, 'XYZ', 795, datetime(2023, 1, 4)],\n",
    "    [10, 'XYZ', 791, datetime(2023, 1, 5)],\n",
    "]\n",
    "\n",
    "# create the in-memory SQLite engine and apply the schema\n",
    "engine = create_engine(\"sqlite:///:memory:\")\n",
    "metadata_obj.create_all(engine)\n",
    "\n",
    "# insert data into the payments table\n",
    "with engine.begin() as conn:\n",
    "    for payment in payment_data:\n",
    "        stmt = insert(payments).values(\n",
    "            id=payment[0],\n",
    "            text=payment[1],\n",
    "            amount=payment[2],\n",
    "            date=payment[3]\n",
    "        )\n",
    "        conn.execute(stmt)"
   ]
  },
  {
   "cell_type": "markdown",
   "id": "b1453cc9-5075-46b6-bf73-e7927d484272",
   "metadata": {},
   "source": [
    "Nachdem die in-memory Zahlungen-Datenbank eingerichtet wurde, definieren wir eine Funktion, die dem **Senior IT Auditor** ermöglicht, SQL-Abfragen auf der Datenbank auszuführen. Diese Funktion wird die Abfragen ausführen und die Ergebnisse in einem strukturierten Format zurückgeben."
   ]
  },
  {
   "cell_type": "code",
   "execution_count": null,
   "id": "23c1d08b-2f07-4a33-bf3b-690e5fd19f72",
   "metadata": {},
   "outputs": [],
   "source": [
    "# define a function to execute a SQL query on the database\n",
    "def run_query(query):\n",
    "    try:\n",
    "        # execute the query and fetch results\n",
    "        result = pd.read_sql(query, con=engine)\n",
    "        \n",
    "        if result.empty:\n",
    "            return \"No results found.\"\n",
    "        \n",
    "        # format and return the result as a table\n",
    "        table = tb.tabulate(result, headers=result.columns, tablefmt=\"grid\")\n",
    "        \n",
    "        return table\n",
    "    \n",
    "    except Exception as e:\n",
    "        return str(e)"
   ]
  },
  {
   "cell_type": "markdown",
   "id": "7a6c60cf-e0eb-48d9-94fb-d068178f9765",
   "metadata": {},
   "source": [
    "Der **Senior IT Auditor** wird das Tool `QueryDatabase` verwenden, um SQL-Abfragen auf den Zahlungsdatensätzen auszuführen. Dieses Tool nimmt eine Abfrage als Eingabe, führt sie auf der Datenbank aus und gibt die Ergebnisse zurück."
   ]
  },
  {
   "cell_type": "code",
   "execution_count": null,
   "id": "32364242-69d5-442a-b222-614ebe300fa1",
   "metadata": {},
   "outputs": [],
   "source": [
    "# define the QueryDatabase tool\n",
    "class QueryDatabase(BaseTool):\n",
    "\n",
    "    name: str = \"Query database\"\n",
    "    description: str = \"Execute SQL database query and return the query result.\"\n",
    "    result_as_answer: bool = True\n",
    "\n",
    "    # define database query\n",
    "    def _run(self, query: str) -> str:\n",
    "\n",
    "        try:\n",
    "            query = query.strip().replace('\"', '')\n",
    "\n",
    "            # echoing cleaned query\n",
    "            print(f\"\\nExecuting cleaned query: {query}\")\n",
    "\n",
    "            if not query:\n",
    "                return \"No SQL query provided.\"\n",
    "\n",
    "            result = run_query(query)\n",
    "\n",
    "            return result\n",
    "\n",
    "        except Exception as exception:\n",
    "            return str(exception)"
   ]
  },
  {
   "cell_type": "markdown",
   "id": "59b848e8-c4fc-4a13-9323-4e460d3f9efd",
   "metadata": {},
   "source": [
    "Das Tool **QueryDatabase** ermöglicht es dem **Senior IT Auditor**, SQL-Abfragen auf der Zahlungen-Datenbank auszuführen, wodurch eine effiziente Prüfung von hochpreisigen Zahlungen anhand der angegebenen Filterkriterien ermöglicht wird. Lassen Sie uns das Tool instanziieren:"
   ]
  },
  {
   "cell_type": "code",
   "execution_count": null,
   "id": "eef33ef2-7cc0-48a3-ac91-72529473d69c",
   "metadata": {},
   "outputs": [],
   "source": [
    "# instantiate the QueryDatabase tool\n",
    "qdb = QueryDatabase()"
   ]
  },
  {
   "cell_type": "markdown",
   "id": "45e232d6-f644-4275-b3fc-220ce01d093c",
   "metadata": {},
   "source": [
    "Als Nächstes definieren wir den **Senior IT Auditor** Agenten. Dieser Agent ist verantwortlich für die Umwandlung der organisatorischen Richtlinienzusammenfassung in SQL-Abfragen, um potenzielle Verstöße gegen Richtlinien in der Zahlungsdatenbank zu identifizieren. Der Agent wird das Tool `QueryDatabase` verwenden, um diese Abfragen auszuführen.\n",
    "\n",
    "Der **Senior IT Auditor** Agent besitzt die folgenden Eigenschaften:\n",
    "- **Rolle:** Senior Auditor.  \n",
    "- **Ziel:** Richtlinienzusammenfassungen in SQL-Abfragen für die Prüfung von Zahlungsdatensätzen umwandeln.  \n",
    "- **Hintergrundgeschichte:** Ein hochqualifizierter IT-Prüfer, bekannt für die Analyse komplexer Systeme und die Sicherstellung der Compliance."
   ]
  },
  {
   "cell_type": "code",
   "execution_count": null,
   "id": "a1b1efcf-5d46-416e-bb08-7b061161601a",
   "metadata": {},
   "outputs": [],
   "source": [
    "# define the Senior IT Auditor agent with a focus on querying payment records for potential compliance issues\n",
    "senior_it_auditor = Agent(\n",
    "    role='Senior IT Auditor',  # role designation for the agent\n",
    "    goal=dedent(\"\"\"\\\n",
    "        convert an organizational guidelines summary into a SQL query to determine guideline violations in the database of payment records.\n",
    "    \"\"\"),  # goal statement to translate audit requirements into actionable queries\n",
    "    \n",
    "    # detailed backstory highlighting the agent's role and expertise\n",
    "    backstory=dedent(\"\"\"\\\n",
    "        you are a highly skilled IT auditor at a leading financial auditing firm. \n",
    "        your expertise includes identifying system vulnerabilities, ensuring regulatory compliance, and optimizing payment processes.\n",
    "        you excel in analyzing complex IT systems and providing actionable recommendations to enhance security and efficiency.\n",
    "    \"\"\"),\n",
    "    \n",
    "    verbose=True,  # enable detailed logging to monitor task execution\n",
    "    allow_delegation=False,  # prevents task delegation to ensure focused task handling by this agent\n",
    "    llm=llm_gpt,  # the agent's \"brain,\" utilizing the LLaMA3 model for handling language-based tasks\n",
    "    tools=[qdb]  # attach the QueryDatabase tool for SQL query execution on payment records\n",
    ")"
   ]
  },
  {
   "cell_type": "markdown",
   "id": "e07aaab2-9a6f-4cc3-960f-ab004cc4ca2c",
   "metadata": {},
   "source": [
    "Der **Senior IT Auditor** Agent wird mit der Aufgabe betraut, die vom **Senior Auditor** bereitgestellten Filterkriterien in eine SQL-Abfrage zu übersetzen, die auf der Zahlungsdatenbank ausgeführt wird, um potenzielle Richtlinienverstöße, insbesondere hochpreisige Transaktionen, zu identifizieren.\n",
    "\n",
    "Zusammenfassend soll die Aufgabe folgende Kriterien erfüllen:\n",
    "- **Kriterium 1:** Eine klare SQL-Abfrage basierend auf den Filterkriterien des Senior Auditors ableiten.  \n",
    "- **Kriterium 2:** Mit `*` alle Felder im Abfrageergebnis abrufen.  \n",
    "- **Kriterium 3:** Abfrageergebnisse in einem strukturierten, lesbaren Format zurückgeben."
   ]
  },
  {
   "cell_type": "code",
   "execution_count": null,
   "id": "dda17ffd-759c-4881-9a35-ba67d97186dc",
   "metadata": {},
   "outputs": [],
   "source": [
    "# define the Query Database task for the Senior IT Auditor agent\n",
    "query_database = Task(\n",
    "    description=dedent(\"\"\"\\\n",
    "        Translate the filtering criteria provided by the **Senior Auditor** into a SQL query and execute it to audit the relevant database for payments exceeding a specific threshold.\n",
    "        \n",
    "        Your actions should include:\n",
    "        \n",
    "        1. Use the explicit filtering criteria from the **Senior Auditor** to formulate a SQL query.\n",
    "        2. Ensure that the query retrieves all relevant fields by using `*` instead of specifying individual field names.\n",
    "        3. Execute the query and format the results in a structured format, such as JSON or a well-formatted table.\n",
    "        \n",
    "        The input should always adhere to this format:\n",
    "        \n",
    "        {\"query\": \"SELECT * FROM payments WHERE <filtering_criteria>\"}\n",
    "\n",
    "    \"\"\"),\n",
    "    expected_output=dedent(\"\"\"\\\n",
    "        A table containing all fields (id, text, amount, date) for payments that meet the filtering criteria provided by the Senior Auditor.\n",
    "    \"\"\"),  # expected output in a clear and structured format\n",
    "    \n",
    "    agent=senior_it_auditor,  # assign the task to the Senior IT Auditor agent\n",
    "    max_attempts=1,           # limit task attempts to one to maintain workflow control\n",
    "    output_file='task_02.txt' # specify output file to store the task results\n",
    ")"
   ]
  },
  {
   "cell_type": "markdown",
   "id": "d3af8120-6cd6-4bff-a2ca-4922a95c578b",
   "metadata": {},
   "source": [
    "#### 3.2.2 Einrichtung des Audit Manager Agenten\n",
    "\n",
    "Der dritte Agent, der **Audit Manager**, fasst die Ergebnisse des Prüfungsteams in einem klaren und zugänglichen Bericht zusammen. Dieser Agent ist darauf spezialisiert, komplexe Prüfdaten in prägnante Zusammenfassungen zu destillieren, um Stakeholdern die wichtigsten Erkenntnisse ohne technischen Fachjargon zu vermitteln. Der **Audit Manager** benötigt keine externen Tools; er nutzt das **LLaMA 3.2-Modell**, um strukturierte und umsetzbare Berichte zu erstellen (siehe Abbildung 4).\n",
    "\n",
    "Lassen Sie uns die Schritte zur Erstellung und Aufgabenvergabe an diesen Agenten durchgehen."
   ]
  },
  {
   "cell_type": "markdown",
   "id": "fde7f03e-9705-4935-9bbd-47f7b06c5a06",
   "metadata": {},
   "source": [
    "<img align='center' style='max-width: 900px' src='./audit_manager_agent.png'>\n",
    "\n",
    "**Figure 4: Senior Audit Manager Agent - Tools and Capabilities**"
   ]
  },
  {
   "cell_type": "markdown",
   "id": "32633712-5672-4012-9a58-db691fc7132b",
   "metadata": {},
   "source": [
    "Nun definieren wir den **Audit Manager** Agenten. Dieser Agent hat die Aufgabe, die Ergebnisse in einen klaren und umfassenden Prüfungsbericht zu synthetisieren, der den Prüfungsprozess, die Ergebnisse und umsetzbare Empfehlungen effektiv kommuniziert. Basierend auf den Erkenntnissen des **Senior IT Auditor** liefert der **Audit Manager** wirkungsvolle Berichte, die für ein breites Publikum leicht verständlich sind.\n",
    "\n",
    "Der **Audit Manager** Agent besitzt die folgenden Eigenschaften:\n",
    "- **Rolle:** Audit Manager.  \n",
    "- **Ziel:** Prüfungsergebnisse in einen aufschlussreichen, zugänglichen und umsetzbaren Bericht zusammenfassen.  \n",
    "- **Hintergrundgeschichte:** Ein gefeierter Prüfer, der komplexe Prüfdaten in klare Erkenntnisse umwandelt."
   ]
  },
  {
   "cell_type": "code",
   "execution_count": null,
   "id": "c853d3da-6c05-4562-bcf2-49700c350458",
   "metadata": {},
   "outputs": [],
   "source": [
    "audit_manager = Agent(\n",
    "    role='Manager Auditor',\n",
    "    goal=dedent(\"\"\"\\\n",
    "        Create comprehensive and compelling audit reports that provide clear insights and actionable recommendations.\n",
    "    \"\"\"),\n",
    "    backstory=dedent(\"\"\"\\\n",
    "        You are a renowned Audit Manager, celebrated for your ability to produce insightful and impactful audit reports.\n",
    "        Your reports distill complex audit findings into clear, accessible, and actionable insights, making them valuable to stakeholders.\n",
    "    \"\"\"),\n",
    "    verbose=True,\n",
    "    allow_delegation=False,\n",
    "    llm=llm_gpt, # the agent will use the LLaMA3 model\n",
    "    tools=[]  # the Audit Manager doesn't need any tools here\n",
    ")"
   ]
  },
  {
   "cell_type": "markdown",
   "id": "99dba809-732e-4299-b694-fda7e260b542",
   "metadata": {},
   "source": [
    "Der **Audit Manager** Agent wird damit beauftragt, die Prüfungsergebnisse des **Senior IT Auditor** in einem umfassenden Bericht zusammenzustellen. Der Bericht soll den Stakeholdern einen strukturierten Überblick über den Prüfungsprozess, Einblicke in die Ergebnisse und umsetzbare Empfehlungen auf Grundlage der Prüfergebnisse liefern.\n",
    "\n",
    "Zusammenfassend soll die Aufgabe folgende Kriterien erfüllen:\n",
    "- **Kriterium 1:** Klar und zugänglich für ein nicht-technisches Publikum sein.  \n",
    "- **Kriterium 2:** Die Prüfungsverfahren detailliert beschreiben, einschließlich des Prüfungsziels und der verwendeten Methoden.  \n",
    "- **Kriterium 3:** Die wichtigsten Ergebnisse prägnant präsentieren und auf identifizierte Probleme hinweisen.  \n",
    "- **Kriterium 4:** Stakeholdern umsetzbare Empfehlungen auf Grundlage der Prüfergebnisse anbieten."
   ]
  },
  {
   "cell_type": "code",
   "execution_count": null,
   "id": "24d8c6c4-8f44-4c26-a130-dcf84b5ef184",
   "metadata": {},
   "outputs": [],
   "source": [
    "# define the report writing task for the Audit Manager\n",
    "write_report = Task(\n",
    "    description=dedent(\"\"\"\\\n",
    "        Compile a comprehensive audit report using the findings from the Senior IT Auditor. This report should clearly communicate the audit's process, results, and recommendations to stakeholders.\n",
    "\n",
    "        In summary, your report should comply with the following criteria:\n",
    "        \n",
    "        1. Be clear and accessible for a non-technical audience.\n",
    "        2. Include a detailed overview of the audit procedures, providing context and explaining the audit objectives.\n",
    "        3. Present key findings concisely, highlighting significant observations such as high-value transactions.\n",
    "        4. Offer actionable recommendations for stakeholders based on the findings.\n",
    "        \n",
    "        Your report structure should include:\n",
    "\n",
    "        1. **Introduction**: Brief context and purpose of the audit.\n",
    "        2. **Audit Procedures**: Description of methods used and rationale.\n",
    "        3. **Findings**: Summary of query results, particularly high-value transactions or anomalies.\n",
    "        4. **Recommendations**: Practical suggestions addressing any issues uncovered.\n",
    "        5. **Conclusion**: Summary of key insights and implications for future audits.\n",
    "\n",
    "        The goal is to create a report that effectively communicates the audit findings and provides valuable insights to stakeholders.\n",
    "        \n",
    "        As the report writing expert, you are responsible for producing this report without requesting additional information. \n",
    "        Utilize the provided data and insights to complete your task effectively.\n",
    "    \"\"\"),\n",
    "    expected_output=dedent(\"\"\"\\\n",
    "        A full audit report presented in a clear and accessible manner.\n",
    "    \"\"\"),\n",
    "    agent=audit_manager,  # assign the task to the audit manager agent\n",
    "    max_attempts=1,\n",
    "    output_file='task_03.txt'\n",
    ")"
   ]
  },
  {
   "cell_type": "markdown",
   "id": "bde070dd-1e60-4d64-83cc-d1ea0445e981",
   "metadata": {},
   "source": [
    "Mit den nun definierten Agenten können wir das Prüfungsteam etablieren. Die Agenten werden die Prüfung von Buchhaltungsbuchungen im Rahmen der im nächsten Abschnitt umgesetzten Verfahren durchführen."
   ]
  },
  {
   "cell_type": "markdown",
   "id": "7f7f1c48-69f7-4794-bbc0-515dd45126ff",
   "metadata": {},
   "source": [
    "## 4. Ausführen des Agentic Journal Entry Testings"
   ]
  },
  {
   "cell_type": "markdown",
   "id": "d1bd47c4-f009-4b3c-b1c3-35639176a233",
   "metadata": {},
   "source": [
    "In diesem abschliessenden Abschnitt bringen wir alle erstellten Agenten – den **Senior Auditor**, den **Senior IT Auditor** und den **Audit Manager** – zusammen und weisen ihnen ihre jeweiligen Aufgaben zu. Gemeinsam bilden sie das **Audit Team**, das den gesamten Prüfungsprozess in Zusammenarbeit durchführen wird.\n",
    "\n",
    "Das **Audit Team** arbeitet sequentiell:\n",
    "1. Der **Senior Auditor** analysiert die Richtlinien und extrahiert die wichtigsten Punkte.\n",
    "2. Der **Senior IT Auditor** übersetzt diese Punkte in SQL-Abfragen und führt sie in der Zahlungsdatenbank aus.\n",
    "3. Der **Audit Manager** fasst die Ergebnisse in einem umfassenden Prüfungsbericht zusammen.\n",
    "\n",
    "Lassen wir das Team an die Arbeit gehen!"
   ]
  },
  {
   "cell_type": "code",
   "execution_count": null,
   "id": "d12ffd49-4294-4179-83b1-5e08fc5fa3ca",
   "metadata": {},
   "outputs": [],
   "source": [
    "# instantiate the audit team\n",
    "audit_team = Crew(\n",
    "    agents=[senior_auditor, senior_it_auditor, audit_manager],  # assign agents to the audit team\n",
    "    tasks=[analyze_guideline, query_database, write_report],     # assign tasks to the audit team\n",
    "    verbose=False,  # set logging level for output visibility\n",
    "    process=Process.sequential  # set the process to sequential to ensure proper order of execution\n",
    ")"
   ]
  },
  {
   "cell_type": "markdown",
   "id": "3f48c593-d828-48f7-8696-679cc713bc55",
   "metadata": {},
   "source": [
    "Nachdem das **Audit Team** instanziiert wurde, können wir das Team laufen lassen, um die Prüfung durchzuführen. Die Agenten bearbeiten ihre Aufgaben nacheinander und stellen sicher, dass jeder Schritt in der richtigen Reihenfolge abgeschlossen wird."
   ]
  },
  {
   "cell_type": "code",
   "execution_count": null,
   "id": "3d0bd59f-aee0-44c2-bad2-41a15dce89e3",
   "metadata": {},
   "outputs": [],
   "source": [
    "# get the audit team to work\n",
    "result = audit_team.kickoff();"
   ]
  },
  {
   "cell_type": "markdown",
   "id": "f1526fd0-41d9-4f88-a698-76be99bddcb1",
   "metadata": {},
   "source": [
    "## Lab Zusammenfassung:"
   ]
  },
  {
   "cell_type": "markdown",
   "id": "7d9a741b-2c10-45bd-af5e-cd5373b7b10a",
   "metadata": {},
   "source": [
    "In diesem Lab haben Sie die folgenden zentralen Erkenntnisse gewonnen:\n",
    "\n",
    "> 1. **Verständnis von Agentic Auditing:** Sie haben die Grundprinzipien des agentenbasierten Auditings gelernt und erfahren, wie KI-Agenten strukturierte Prüfungsaufgaben, insbesondere die Prüfung von Buchhaltungsbuchungen, automatisieren.  \n",
    "> 2. **Implementierung von Agenten mit CrewAI:** Sie haben praktische Erfahrung im Einrichten von Agenten in CrewAI gesammelt, einschließlich eines **Senior Auditor** zur Zusammenfassung von Richtlinien, eines **Senior IT Auditor** für Datenbankabfragen und eines **Audit Manager** zur Berichtserstellung.  \n",
    "> 3. **Erstellung agentenbasierter Workflows für die Prüfung von Buchhaltungsbuchungen:** Sie haben einen sequentiellen Workflow erstellt, um Richtlinien zu analysieren, Finanzdatensätze abzufragen und die Ergebnisse in einem vollständigen Prüfungsbericht zusammenzufassen.\n",
    "\n",
    "Dieses Lab bot Einblicke in die Konzeption und Implementierung von KI-Agenten für Aufgaben der Finanzprüfung. Durch Einrichtung, Aufgabenkonfiguration und Zusammenarbeit der Agenten haben Sie Fähigkeiten zur Nutzung agentenbasierter Workflows zur Verbesserung von Prüfungsprozessen entwickelt."
   ]
  }
 ],
 "metadata": {
  "kernelspec": {
   "display_name": "wcars",
   "language": "python",
   "name": "wcars"
  },
  "language_info": {
   "codemirror_mode": {
    "name": "ipython",
    "version": 3
   },
   "file_extension": ".py",
   "mimetype": "text/x-python",
   "name": "python",
   "nbconvert_exporter": "python",
   "pygments_lexer": "ipython3",
   "version": "3.12.4"
  }
 },
 "nbformat": 4,
 "nbformat_minor": 5
}
